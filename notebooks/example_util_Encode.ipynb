{
 "cells": [
  {
   "cell_type": "code",
   "execution_count": null,
   "id": "b872578e",
   "metadata": {},
   "outputs": [],
   "source": [
    "%load_ext autoreload\n",
    "%autoreload 2\n",
    "%matplotlib inline\n",
    "\n",
    "# global imports\n",
    "import sys\n",
    "import pandas as pd\n",
    "import numpy as np\n",
    "import seaborn as sns\n",
    "import pickle\n",
    "import matplotlib.pyplot as plt\n",
    "from sklearn.model_selection import train_test_split\n",
    "\n",
    "# local imports\n",
    "sys.path.append('../src/') # local path\n",
    "import dautils"
   ]
  },
  {
   "cell_type": "markdown",
   "id": "7d3d62b7",
   "metadata": {},
   "source": [
    "### Read dataframe"
   ]
  },
  {
   "cell_type": "code",
   "execution_count": null,
   "id": "02035481",
   "metadata": {},
   "outputs": [],
   "source": [
    "# read dataset\n",
    "df = pd.read_csv('../data/adult_continuous.csv', na_values='?')\n",
    "# remove unused columns\n",
    "del df['fnlwgt']\n",
    "del df['education-num']\n",
    "df.info()"
   ]
  },
  {
   "cell_type": "code",
   "execution_count": null,
   "id": "48f62d8a",
   "metadata": {},
   "outputs": [],
   "source": [
    "# some missing values present\n",
    "df.isna().sum()"
   ]
  },
  {
   "cell_type": "code",
   "execution_count": null,
   "id": "181d8a7d",
   "metadata": {},
   "outputs": [],
   "source": [
    "df.head()"
   ]
  },
  {
   "cell_type": "code",
   "execution_count": null,
   "id": "897dfaa1",
   "metadata": {},
   "outputs": [],
   "source": [
    "# nominal-ordinal-continuous partition of predictive attributes\n",
    "nominal_atts = ['workclass', 'marital-status', 'occupation', 'relationship', 'race', 'sex', 'native-country']\n",
    "ordinal_atts = ['education']\n",
    "continuous_atts = ['age', 'capital-gain', 'capital-loss', 'hours-per-week']\n",
    "# class attribute\n",
    "target = 'class'\n",
    "# predictive and all atts\n",
    "pred_atts = nominal_atts + ordinal_atts + continuous_atts\n",
    "all_atts = pred_atts + [target]"
   ]
  },
  {
   "cell_type": "markdown",
   "id": "0433b816",
   "metadata": {},
   "source": [
    "### Encoding "
   ]
  },
  {
   "cell_type": "code",
   "execution_count": null,
   "id": "1ad45a86",
   "metadata": {},
   "outputs": [],
   "source": [
    "# forcing encoding of ordinal attributes (consistent with the order) and class attribute (0=negatives, 1=positives)\n",
    "decode = {\n",
    "    'education': {\n",
    "        1:'Preschool', 2:'1st-4th', 3:'5th-6th', 4:'7th-8th', 5:'9th', 6:'10th', 7:'11th',\n",
    "        8:'12th', 9:'HS-grad', 10:'Some-college', 11:'Assoc-voc', 12:'Assoc-acdm', 13:'Bachelors', \n",
    "        14:'Masters', 15:'Prof-school', 16:'Doctorate' \n",
    "    },\n",
    "    'class': {\n",
    "        0: '<=50K', 1: '>50K'\n",
    "    }\n",
    "}"
   ]
  },
  {
   "cell_type": "code",
   "execution_count": null,
   "id": "c27623e0",
   "metadata": {},
   "outputs": [],
   "source": [
    "# encode nominal (as categories), ordinal+target (as int), passing the encoding of ordinal+target\n",
    "df_code = dautils.Encode(nominal=nominal_atts, ordinal=ordinal_atts+[target], decode=decode)\n",
    "df_encoded = df_code.fit_transform(df)\n",
    "# workclass, occupation and native-country are floats because there are missing values\n",
    "df_encoded.head()"
   ]
  },
  {
   "cell_type": "code",
   "execution_count": null,
   "id": "c6f8cc5f",
   "metadata": {},
   "outputs": [],
   "source": [
    "df_encoded.info()"
   ]
  },
  {
   "cell_type": "code",
   "execution_count": null,
   "id": "55686eaf",
   "metadata": {
    "scrolled": true
   },
   "outputs": [],
   "source": [
    "# dictionary of encodings for discrete (nominal+ordinal+target) columns\n",
    "df_code.decode"
   ]
  },
  {
   "cell_type": "code",
   "execution_count": null,
   "id": "5f9f92fc",
   "metadata": {},
   "outputs": [],
   "source": [
    "# from encoded back to orignal\n",
    "df_back = df_code.inverse_transform(df_encoded)\n",
    "df_back.head()"
   ]
  },
  {
   "cell_type": "markdown",
   "id": "fa420a4d",
   "metadata": {},
   "source": [
    "### Encoding with onehot option"
   ]
  },
  {
   "cell_type": "code",
   "execution_count": null,
   "id": "61bb99c0",
   "metadata": {},
   "outputs": [],
   "source": [
    "df_code = dautils.Encode(nominal=nominal_atts, ordinal=ordinal_atts+[target], decode=decode, onehot=True)\n",
    "df_encoded_onehot = df_code.fit_transform(df)\n",
    "df_encoded_onehot.head()"
   ]
  },
  {
   "cell_type": "code",
   "execution_count": null,
   "id": "d8d4d874",
   "metadata": {
    "scrolled": true
   },
   "outputs": [],
   "source": [
    "# dictionary of encodings now does not include nominal\n",
    "df_code.decode"
   ]
  },
  {
   "cell_type": "code",
   "execution_count": null,
   "id": "861589de",
   "metadata": {},
   "outputs": [],
   "source": [
    "# from encoded back to original\n",
    "df_onehot_back = df_code.inverse_transform(df_encoded_onehot)\n",
    "df_onehot_back.head()"
   ]
  },
  {
   "cell_type": "code",
   "execution_count": null,
   "id": "bb6fd91b",
   "metadata": {
    "scrolled": true
   },
   "outputs": [],
   "source": [
    "# encoded atts names\n",
    "encoded_pred_atts = df_code.encoded_atts(pred_atts)\n",
    "encoded_pred_atts"
   ]
  },
  {
   "cell_type": "code",
   "execution_count": null,
   "id": "46cecef8",
   "metadata": {},
   "outputs": [],
   "source": [
    "# train a decision tree\n",
    "from sklearn.tree import DecisionTreeClassifier\n",
    "\n",
    "clf = DecisionTreeClassifier(max_depth=3)\n",
    "clf.fit(df_encoded_onehot[encoded_pred_atts], df_encoded_onehot[target])"
   ]
  },
  {
   "cell_type": "code",
   "execution_count": null,
   "id": "74276ce0",
   "metadata": {},
   "outputs": [],
   "source": [
    "# visualize the decision tree\n",
    "from sklearn import tree\n",
    "from IPython.display import Image\n",
    "import pydotplus\n",
    "\n",
    "dot_data = tree.export_graphviz(clf, out_file=None, \n",
    "                                feature_names=encoded_pred_atts, # attributes names\n",
    "                                class_names=df_code.decode[target], # class labels\n",
    "                                filled=True, rounded=True)  \n",
    "graph = pydotplus.graph_from_dot_data(dot_data)  \n",
    "Image(graph.create_png())"
   ]
  },
  {
   "cell_type": "code",
   "execution_count": null,
   "id": "9d448928",
   "metadata": {},
   "outputs": [],
   "source": []
  }
 ],
 "metadata": {
  "kernelspec": {
   "display_name": "Python 3 (ipykernel)",
   "language": "python",
   "name": "python3"
  },
  "language_info": {
   "codemirror_mode": {
    "name": "ipython",
    "version": 3
   },
   "file_extension": ".py",
   "mimetype": "text/x-python",
   "name": "python",
   "nbconvert_exporter": "python",
   "pygments_lexer": "ipython3",
   "version": "3.9.13"
  }
 },
 "nbformat": 4,
 "nbformat_minor": 5
}
